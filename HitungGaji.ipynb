{
 "cells": [
  {
   "cell_type": "code",
   "execution_count": 10,
   "metadata": {
    "scrolled": true
   },
   "outputs": [
    {
     "name": "stdout",
     "output_type": "stream",
     "text": [
      "Jumlah jam kerja John pada minggu ini = 52\n"
     ]
    }
   ],
   "source": [
    "jamBiasa = 40\n",
    "gajiBiasa = 15000\n",
    "gajiLembur = 1.5 * gajiBiasa\n",
    "\n",
    "jamKerjaJohn = int(input(\"Jumlah jam kerja John pada minggu ini = \"))"
   ]
  },
  {
   "cell_type": "code",
   "execution_count": 11,
   "metadata": {},
   "outputs": [
    {
     "name": "stdout",
     "output_type": "stream",
     "text": [
      "Gaji John minggu ini adalah = Rp 870000\n"
     ]
    }
   ],
   "source": [
    "if (jamKerjaJohn <= 0):\n",
    "    gajiJohn = 0\n",
    "    print(\"John tidak bekerja sama sekali minggu ini, Gaji John = Rp\", gajiJohn)\n",
    "\n",
    "elif (jamKerjaJohn <= 40):\n",
    "    gajiJohn = jamKerjaJohn * gajiBiasa\n",
    "    print(\"Gaji John minggu ini adalah = Rp\", gajiJohn)\n",
    "\n",
    "else :\n",
    "    jamLemburJohn = jamKerjaJohn - jamBiasa\n",
    "    gajiJohn = int((jamBiasa * gajiBiasa) + (jamLemburJohn * gajiLembur))\n",
    "    print(\"Gaji John minggu ini adalah = Rp\", gajiJohn)"
   ]
  },
  {
   "cell_type": "code",
   "execution_count": 12,
   "metadata": {},
   "outputs": [
    {
     "name": "stdout",
     "output_type": "stream",
     "text": [
      "Masukkan pengeluaran John minggu ini = 600000\n"
     ]
    }
   ],
   "source": [
    "pengeluaran = int(input(\"Masukkan pengeluaran John minggu ini = \"))"
   ]
  },
  {
   "cell_type": "code",
   "execution_count": 14,
   "metadata": {},
   "outputs": [
    {
     "name": "stdout",
     "output_type": "stream",
     "text": [
      "John bisa menabung\n",
      "Uang yang bisa John tabung adalah = Rp 270000\n"
     ]
    }
   ],
   "source": [
    "if gajiJohn > pengeluaran:\n",
    "    print(\"John bisa menabung\")\n",
    "    print(\"Uang yang bisa John tabung adalah = Rp\", gajiJohn - pengeluaran)\n",
    "\n",
    "elif gajiJohn == pengeluaran:\n",
    "    print(\"John tidak bisa menabung\")"
   ]
  },
  {
   "cell_type": "code",
   "execution_count": null,
   "metadata": {},
   "outputs": [],
   "source": []
  }
 ],
 "metadata": {
  "kernelspec": {
   "display_name": "Python 3",
   "language": "python",
   "name": "python3"
  },
  "language_info": {
   "codemirror_mode": {
    "name": "ipython",
    "version": 3
   },
   "file_extension": ".py",
   "mimetype": "text/x-python",
   "name": "python",
   "nbconvert_exporter": "python",
   "pygments_lexer": "ipython3",
   "version": "3.7.6"
  }
 },
 "nbformat": 4,
 "nbformat_minor": 4
}
